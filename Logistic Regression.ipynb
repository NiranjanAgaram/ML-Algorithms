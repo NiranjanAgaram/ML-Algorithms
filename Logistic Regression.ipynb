{
 "cells": [
  {
   "cell_type": "code",
   "execution_count": null,
   "metadata": {
    "collapsed": true
   },
   "outputs": [],
   "source": [
    "#Import Library \n",
    "\n",
    "from sklearn.linear_model import LogisticRegression \n",
    "\n",
    "#Assumed you have, X (predictor) and Y (target) \n",
    "#for training data set and x_test(predictor) \n",
    "#of test_dataset \n",
    "#Create logistic regression object \n",
    "\n",
    "model = LogisticRegression() \n",
    "\n",
    "#Train the model using the training sets \n",
    "#and check score \n",
    "\n",
    "model.fit(X, y) \n",
    "model.score(X, y) \n",
    "\n",
    "#Equation coefficient and Intercept\n",
    "\n",
    "print('Coefficient: \\n', model.coef_) \n",
    "print('Intercept: \\n', model.intercept_) \n",
    "\n",
    "#Predict Output \n",
    "\n",
    "predicted= model.predict(x_test)\n"
   ]
  }
 ],
 "metadata": {
  "kernelspec": {
   "display_name": "Python 3",
   "language": "python",
   "name": "python3"
  },
  "language_info": {
   "codemirror_mode": {
    "name": "ipython",
    "version": 3
   },
   "file_extension": ".py",
   "mimetype": "text/x-python",
   "name": "python",
   "nbconvert_exporter": "python",
   "pygments_lexer": "ipython3",
   "version": "3.6.0"
  }
 },
 "nbformat": 4,
 "nbformat_minor": 2
}
