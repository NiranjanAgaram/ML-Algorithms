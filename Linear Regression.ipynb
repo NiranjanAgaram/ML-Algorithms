{
 "cells": [
  {
   "cell_type": "code",
   "execution_count": null,
   "metadata": {
    "collapsed": true
   },
   "outputs": [],
   "source": [
    "#import library \n",
    "#import other necessary libraries like pandas, numpy ...\n",
    "\n",
    "from sklearn import linear_model\n",
    "\n",
    "#load train and test datasets\n",
    "#identify feature and response varible(s)\n",
    "#vales must be numeric and numpy arrays\n",
    "\n",
    "x_train = input_variables_values_training_datasets\n",
    "y_train = target_variables_values_training_datasets\n",
    "x_test = input_variavles_values_test_datasets\n",
    "\n",
    "#Create linear regression object\n",
    "\n",
    "linear = linear_model.LinearRegression()\n",
    "\n",
    "# Train the model using the training sets and\n",
    "# check score\n",
    "\n",
    "linear.fit(x_train, y_train)\n",
    "linear.score(x_train, y_train)\n",
    "\n",
    "# Equation coefficient and Intercept\n",
    "\n",
    "print('Coefficient: \\n', linear.coef_)\n",
    "print('Intercept: \\n', linear.intercept_)\n",
    "\n",
    "# Predict Output\n",
    "\n",
    "predicted = linear.predict(x_test)"
   ]
  }
 ],
 "metadata": {
  "kernelspec": {
   "display_name": "Python 3",
   "language": "python",
   "name": "python3"
  },
  "language_info": {
   "codemirror_mode": {
    "name": "ipython",
    "version": 3
   },
   "file_extension": ".py",
   "mimetype": "text/x-python",
   "name": "python",
   "nbconvert_exporter": "python",
   "pygments_lexer": "ipython3",
   "version": "3.6.0"
  }
 },
 "nbformat": 4,
 "nbformat_minor": 2
}
