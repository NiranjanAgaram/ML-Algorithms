{
 "cells": [
  {
   "cell_type": "code",
   "execution_count": null,
   "metadata": {
    "collapsed": true
   },
   "outputs": [],
   "source": [
    "#Import Library \n",
    "#Import other necessary libraries like pandas, numpy... \n",
    "\n",
    "from sklearn import tree \n",
    "\n",
    "#Assumed you have, X (predictor) and Y (target) for \n",
    "#training data set and x_test(predictor) of \n",
    "#test_dataset #Create tree object \n",
    "\n",
    "model = tree.DecisionTreeClassifier(criterion='gini') \n",
    "\n",
    "#for classification, here you can change the \n",
    "#algorithm as gini or entropy (information gain) by \n",
    "#default it is gini  \n",
    "#model = tree.DecisionTreeRegressor() for \n",
    "#regression \n",
    "#Train the model using the training sets and check \n",
    "#score \n",
    "\n",
    "model.fit(X, y) \n",
    "model.score(X, y) \n",
    "\n",
    "#Predict Output \n",
    "\n",
    "predicted= model.predict(x_test)\n"
   ]
  }
 ],
 "metadata": {
  "kernelspec": {
   "display_name": "Python 3",
   "language": "python",
   "name": "python3"
  },
  "language_info": {
   "codemirror_mode": {
    "name": "ipython",
    "version": 3
   },
   "file_extension": ".py",
   "mimetype": "text/x-python",
   "name": "python",
   "nbconvert_exporter": "python",
   "pygments_lexer": "ipython3",
   "version": "3.6.0"
  }
 },
 "nbformat": 4,
 "nbformat_minor": 2
}
