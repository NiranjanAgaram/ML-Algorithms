{
 "cells": [
  {
   "cell_type": "code",
   "execution_count": null,
   "metadata": {
    "collapsed": true
   },
   "outputs": [],
   "source": [
    "#Import Library \n",
    "\n",
    "from sklearn import svm \n",
    "\n",
    "#Assumed you have, X (predictor) and Y (target) for \n",
    "#training data set and x_test(predictor) of test_dataset \n",
    "#Create SVM classification object \n",
    "\n",
    "model = svm.svc() \n",
    "\n",
    "#there are various options associated with it, this is simple for classification. \n",
    "#Train the model using the training sets and check \n",
    "#score \n",
    "\n",
    "model.fit(X, y) \n",
    "model.score(X, y) \n",
    "\n",
    "#Predict Output \n",
    "\n",
    "predicted= model.predict(x_test)\n"
   ]
  }
 ],
 "metadata": {
  "kernelspec": {
   "display_name": "Python 3",
   "language": "python",
   "name": "python3"
  },
  "language_info": {
   "codemirror_mode": {
    "name": "ipython",
    "version": 3
   },
   "file_extension": ".py",
   "mimetype": "text/x-python",
   "name": "python",
   "nbconvert_exporter": "python",
   "pygments_lexer": "ipython3",
   "version": "3.6.0"
  }
 },
 "nbformat": 4,
 "nbformat_minor": 2
}
